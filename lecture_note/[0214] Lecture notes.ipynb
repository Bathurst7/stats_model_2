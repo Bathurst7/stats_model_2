{
 "cells": [
  {
   "cell_type": "code",
   "execution_count": 5,
   "metadata": {
    "vscode": {
     "languageId": "r"
    }
   },
   "outputs": [],
   "source": [
    "# install.packages('car')\n",
    "# install.packages('ggplot2')\n",
    "# install.packages('nortest')"
   ]
  },
  {
   "cell_type": "code",
   "execution_count": 6,
   "metadata": {
    "vscode": {
     "languageId": "r"
    }
   },
   "outputs": [],
   "source": [
    "library(ggplot2)\n",
    "# library(car)\n",
    "# library(nortest)"
   ]
  },
  {
   "cell_type": "code",
   "execution_count": 7,
   "metadata": {
    "vscode": {
     "languageId": "r"
    }
   },
   "outputs": [
    {
     "name": "stdout",
     "output_type": "stream",
     "text": [
      "[1] \"/mnt/d/VNU/spring2025/stats_model_2/lecture_note\"\n"
     ]
    }
   ],
   "source": [
    "# get current working directory\n",
    "current_wd <- getwd()\n",
    "print(current_wd)"
   ]
  },
  {
   "cell_type": "code",
   "execution_count": 8,
   "metadata": {
    "vscode": {
     "languageId": "r"
    }
   },
   "outputs": [],
   "source": [
    "# get the data\n",
    "data <- read.csv('../data/CH2-02.csv', header=TRUE, sep=';')"
   ]
  },
  {
   "cell_type": "code",
   "execution_count": 9,
   "metadata": {
    "vscode": {
     "languageId": "r"
    }
   },
   "outputs": [
    {
     "name": "stdout",
     "output_type": "stream",
     "text": [
      "'data.frame':\t20 obs. of  2 variables:\n",
      " $ Treatment: num  4.81 4.17 4.41 3.59 5.87 3.83 6.03 4.98 4.9 5.75 ...\n",
      " $ Control  : num  4.17 3.05 5.18 4.01 6.11 4.1 7.17 3.57 5.33 5.59 ...\n"
     ]
    }
   ],
   "source": [
    "str(data)"
   ]
  },
  {
   "cell_type": "code",
   "execution_count": 10,
   "metadata": {
    "vscode": {
     "languageId": "r"
    }
   },
   "outputs": [],
   "source": [
    "treatment_group = data$Treatment\n",
    "control_group = data$Control"
   ]
  },
  {
   "cell_type": "markdown",
   "metadata": {},
   "source": [
    "#### Question a:"
   ]
  },
  {
   "cell_type": "markdown",
   "metadata": {},
   "source": [
    "##### Calculation part:"
   ]
  },
  {
   "cell_type": "markdown",
   "metadata": {},
   "source": [
    "**Calculate the mean**"
   ]
  },
  {
   "cell_type": "code",
   "execution_count": 11,
   "metadata": {
    "vscode": {
     "languageId": "r"
    }
   },
   "outputs": [],
   "source": [
    "treatment_mean = mean(data$Treatment, na.rm = TRUE) # remove nulls values in calculation\n",
    "control_mean = mean(data$Control, na.rm = TRUE)"
   ]
  },
  {
   "cell_type": "code",
   "execution_count": 12,
   "metadata": {
    "vscode": {
     "languageId": "r"
    }
   },
   "outputs": [
    {
     "name": "stdout",
     "output_type": "stream",
     "text": [
      "[1] \"The mean value of treatment group is:  4.86\"\n",
      "[1] \"The mean value of control group is:  4.8265\"\n"
     ]
    }
   ],
   "source": [
    "print(paste('The mean value of treatment group is: ', treatment_mean))\n",
    "print(paste('The mean value of control group is: ', control_mean))"
   ]
  },
  {
   "cell_type": "markdown",
   "metadata": {},
   "source": [
    "**Calculate the median**"
   ]
  },
  {
   "cell_type": "code",
   "execution_count": 13,
   "metadata": {
    "vscode": {
     "languageId": "r"
    }
   },
   "outputs": [],
   "source": [
    "treatment_median <- median(data$Treatment, na.rm = TRUE) # remove nulls values in calculation\n",
    "control_median <- median(data$Control, na.rm = TRUE)"
   ]
  },
  {
   "cell_type": "code",
   "execution_count": 14,
   "metadata": {
    "vscode": {
     "languageId": "r"
    }
   },
   "outputs": [
    {
     "name": "stdout",
     "output_type": "stream",
     "text": [
      "The median value of treatment group is:  4.85The median value of control group is:  4.635"
     ]
    }
   ],
   "source": [
    "cat('The median value of treatment group is: ', treatment_median)\n",
    "cat('The median value of control group is: ', control_median)"
   ]
  },
  {
   "cell_type": "markdown",
   "metadata": {},
   "source": [
    "**Calculate the standard deviation**"
   ]
  },
  {
   "cell_type": "code",
   "execution_count": 15,
   "metadata": {
    "vscode": {
     "languageId": "r"
    }
   },
   "outputs": [],
   "source": [
    "treatment_sd = sd(data$Treatment, na.rm = TRUE) # remove nulls values in calculation\n",
    "control_sd = sd(data$Control, na.rm = TRUE)"
   ]
  },
  {
   "cell_type": "code",
   "execution_count": 16,
   "metadata": {
    "vscode": {
     "languageId": "r"
    }
   },
   "outputs": [
    {
     "name": "stdout",
     "output_type": "stream",
     "text": [
      "The standard deviation value of treatment group is:  0.7909222The standard deviation value of control group is:  1.019336"
     ]
    }
   ],
   "source": [
    "cat('The standard deviation value of treatment group is: ', treatment_sd)\n",
    "cat('The standard deviation value of control group is: ', control_sd)"
   ]
  },
  {
   "cell_type": "markdown",
   "metadata": {},
   "source": [
    "**Calculate the max, and min**"
   ]
  },
  {
   "cell_type": "code",
   "execution_count": 17,
   "metadata": {
    "vscode": {
     "languageId": "r"
    }
   },
   "outputs": [],
   "source": [
    "treatment_max = max(data$Treatment, na.rm = TRUE) # remove nulls values in calculation\n",
    "control_max = max(data$Control, na.rm = TRUE)"
   ]
  },
  {
   "cell_type": "code",
   "execution_count": 18,
   "metadata": {
    "vscode": {
     "languageId": "r"
    }
   },
   "outputs": [
    {
     "name": "stdout",
     "output_type": "stream",
     "text": [
      "The max value of treatment group is:  6.34The max value of control group is:  7.17"
     ]
    }
   ],
   "source": [
    "cat('The max value of treatment group is: ', treatment_max)\n",
    "cat('The max value of control group is: ', control_max)"
   ]
  },
  {
   "cell_type": "code",
   "execution_count": 19,
   "metadata": {
    "vscode": {
     "languageId": "r"
    }
   },
   "outputs": [],
   "source": [
    "treatment_min = min(data$Treatment, na.rm = TRUE) # remove nulls values in calculation\n",
    "control_min = min(data$Control, na.rm = TRUE)"
   ]
  },
  {
   "cell_type": "code",
   "execution_count": 20,
   "metadata": {
    "vscode": {
     "languageId": "r"
    }
   },
   "outputs": [
    {
     "name": "stdout",
     "output_type": "stream",
     "text": [
      "The min value of treatment group is:  3.48The min value of control group is:  3.05"
     ]
    }
   ],
   "source": [
    "cat('The min value of treatment group is: ', treatment_min)\n",
    "cat('The min value of control group is: ', control_min)"
   ]
  },
  {
   "cell_type": "markdown",
   "metadata": {},
   "source": [
    "##### Generate the visualisation part:"
   ]
  },
  {
   "cell_type": "code",
   "execution_count": 21,
   "metadata": {
    "vscode": {
     "languageId": "r"
    }
   },
   "outputs": [
    {
     "data": {
      "image/png": "[encoded data removed]",
      "text/plain": [
       "Plot with title “Histogram for Treatment”"
      ]
     },
     "metadata": {
      "image/png": {
       "height": 420,
       "width": 420
      }
     },
     "output_type": "display_data"
    }
   ],
   "source": [
    "hist(data$Treatment, main = \"Histogram for Treatment\", xlab = \"Treatment\", col = \"blue\", border = \"black\")"
   ]
  },
  {
   "cell_type": "code",
   "execution_count": 22,
   "metadata": {
    "vscode": {
     "languageId": "r"
    }
   },
   "outputs": [
    {
     "data": {
      "image/png": "[encoded data removed]",
      "text/plain": [
       "Plot with title “Histogram for Control”"
      ]
     },
     "metadata": {
      "image/png": {
       "height": 420,
       "width": 420
      }
     },
     "output_type": "display_data"
    }
   ],
   "source": [
    "hist(data$Control, main = \"Histogram for Control\", xlab = \"Control\", col = \"blue\", border = \"black\")"
   ]
  },
  {
   "cell_type": "markdown",
   "metadata": {},
   "source": [
    "#### Question b"
   ]
  },
  {
   "cell_type": "code",
   "execution_count": 23,
   "metadata": {
    "vscode": {
     "languageId": "r"
    }
   },
   "outputs": [
    {
     "data": {
      "text/plain": [
       "\n",
       "\tWelch Two Sample t-test\n",
       "\n",
       "data:  treatment_group and control_group\n",
       "t = 0.11612, df = 35.792, p-value = 0.9082\n",
       "alternative hypothesis: true difference in means is not equal to 0\n",
       "95 percent confidence interval:\n",
       " -0.5517161  0.6187161\n",
       "sample estimates:\n",
       "mean of x mean of y \n",
       "   4.8600    4.8265 \n"
      ]
     },
     "metadata": {},
     "output_type": "display_data"
    }
   ],
   "source": [
    "test_result = t.test(treatment_group, control_group, alternative=\"two.sided\", var.equal=FALSE)\n",
    "test_result"
   ]
  },
  {
   "cell_type": "markdown",
   "metadata": {},
   "source": [
    "#### Question g"
   ]
  },
  {
   "cell_type": "code",
   "execution_count": 24,
   "metadata": {
    "vscode": {
     "languageId": "r"
    }
   },
   "outputs": [],
   "source": [
    "mean_control <- mean(control_group)\n",
    "mean_treatment <- mean(treatment_group)\n",
    "overall_mean <- mean(c(control_group, treatment_group))"
   ]
  },
  {
   "cell_type": "code",
   "execution_count": 25,
   "metadata": {
    "vscode": {
     "languageId": "r"
    }
   },
   "outputs": [],
   "source": [
    "S0 <- sum((control_group - overall_mean)^2) + sum((treatment_group - overall_mean)^2)\n",
    "S1 <- sum((control_group - mean_control)^2) + sum((treatment_group - mean_treatment)^2)"
   ]
  },
  {
   "cell_type": "code",
   "execution_count": 26,
   "metadata": {
    "vscode": {
     "languageId": "r"
    }
   },
   "outputs": [],
   "source": [
    "F_stat <- (S0 - S1) / (S1 / 38)"
   ]
  },
  {
   "cell_type": "code",
   "execution_count": 27,
   "metadata": {
    "vscode": {
     "languageId": "r"
    }
   },
   "outputs": [],
   "source": [
    "p_value <- 1 - pf(F_stat, df1 = 1, df2 = 38)"
   ]
  },
  {
   "cell_type": "code",
   "execution_count": 28,
   "metadata": {
    "vscode": {
     "languageId": "r"
    }
   },
   "outputs": [
    {
     "name": "stdout",
     "output_type": "stream",
     "text": [
      "F-statistic: 0.0134837 \n",
      "p-value: 0.9081695 \n"
     ]
    }
   ],
   "source": [
    "cat(\"F-statistic:\", F_stat, \"\\n\")\n",
    "cat(\"p-value:\", p_value, \"\\n\")"
   ]
  },
  {
   "cell_type": "markdown",
   "metadata": {},
   "source": [
    "#### Question i"
   ]
  },
  {
   "cell_type": "code",
   "execution_count": 33,
   "metadata": {
    "vscode": {
     "languageId": "r"
    }
   },
   "outputs": [
    {
     "data": {
      "text/html": [
       "<style>\n",
       ".list-inline {list-style: none; margin:0; padding: 0}\n",
       ".list-inline>li {display: inline-block}\n",
       ".list-inline>li:not(:last-child)::after {content: \"\\00b7\"; padding: 0 .5ex}\n",
       "</style>\n",
       "<ol class=list-inline><li>-0.67325</li><li>-1.79325</li><li>0.336749999999999</li><li>-0.83325</li><li>1.26675</li><li>-0.743250000000001</li><li>2.32675</li><li>-1.27325</li><li>0.48675</li><li>0.74675</li><li>-0.18325</li><li>0.73675</li><li>-1.18325</li><li>-0.34325</li><li>-0.94325</li><li>-0.23325</li><li>0.77675</li><li>-0.31325</li><li>1.20675</li><li>0.296749999999999</li><li>-0.0332500000000007</li><li>-0.67325</li><li>-0.43325</li><li>-1.25325</li><li>1.02675</li><li>-1.01325</li><li>1.18675</li><li>0.13675</li><li>0.0567500000000001</li><li>0.90675</li><li>0.51675</li><li>-1.36325</li><li>-0.15325</li><li>-0.40325</li><li>0.0467499999999994</li><li>-0.13325</li><li>0.63675</li><li>-0.52325</li><li>0.30675</li><li>1.49675</li></ol>\n"
      ],
      "text/latex": [
       "\\begin{enumerate*}\n",
       "\\item -0.67325\n",
       "\\item -1.79325\n",
       "\\item 0.336749999999999\n",
       "\\item -0.83325\n",
       "\\item 1.26675\n",
       "\\item -0.743250000000001\n",
       "\\item 2.32675\n",
       "\\item -1.27325\n",
       "\\item 0.48675\n",
       "\\item 0.74675\n",
       "\\item -0.18325\n",
       "\\item 0.73675\n",
       "\\item -1.18325\n",
       "\\item -0.34325\n",
       "\\item -0.94325\n",
       "\\item -0.23325\n",
       "\\item 0.77675\n",
       "\\item -0.31325\n",
       "\\item 1.20675\n",
       "\\item 0.296749999999999\n",
       "\\item -0.0332500000000007\n",
       "\\item -0.67325\n",
       "\\item -0.43325\n",
       "\\item -1.25325\n",
       "\\item 1.02675\n",
       "\\item -1.01325\n",
       "\\item 1.18675\n",
       "\\item 0.13675\n",
       "\\item 0.0567500000000001\n",
       "\\item 0.90675\n",
       "\\item 0.51675\n",
       "\\item -1.36325\n",
       "\\item -0.15325\n",
       "\\item -0.40325\n",
       "\\item 0.0467499999999994\n",
       "\\item -0.13325\n",
       "\\item 0.63675\n",
       "\\item -0.52325\n",
       "\\item 0.30675\n",
       "\\item 1.49675\n",
       "\\end{enumerate*}\n"
      ],
      "text/markdown": [
       "1. -0.67325\n",
       "2. -1.79325\n",
       "3. 0.336749999999999\n",
       "4. -0.83325\n",
       "5. 1.26675\n",
       "6. -0.743250000000001\n",
       "7. 2.32675\n",
       "8. -1.27325\n",
       "9. 0.48675\n",
       "10. 0.74675\n",
       "11. -0.18325\n",
       "12. 0.73675\n",
       "13. -1.18325\n",
       "14. -0.34325\n",
       "15. -0.94325\n",
       "16. -0.23325\n",
       "17. 0.77675\n",
       "18. -0.31325\n",
       "19. 1.20675\n",
       "20. 0.296749999999999\n",
       "21. -0.0332500000000007\n",
       "22. -0.67325\n",
       "23. -0.43325\n",
       "24. -1.25325\n",
       "25. 1.02675\n",
       "26. -1.01325\n",
       "27. 1.18675\n",
       "28. 0.13675\n",
       "29. 0.0567500000000001\n",
       "30. 0.90675\n",
       "31. 0.51675\n",
       "32. -1.36325\n",
       "33. -0.15325\n",
       "34. -0.40325\n",
       "35. 0.0467499999999994\n",
       "36. -0.13325\n",
       "37. 0.63675\n",
       "38. -0.52325\n",
       "39. 0.30675\n",
       "40. 1.49675\n",
       "\n",
       "\n"
      ],
      "text/plain": [
       " [1] -0.67325 -1.79325  0.33675 -0.83325  1.26675 -0.74325  2.32675 -1.27325\n",
       " [9]  0.48675  0.74675 -0.18325  0.73675 -1.18325 -0.34325 -0.94325 -0.23325\n",
       "[17]  0.77675 -0.31325  1.20675  0.29675 -0.03325 -0.67325 -0.43325 -1.25325\n",
       "[25]  1.02675 -1.01325  1.18675  0.13675  0.05675  0.90675  0.51675 -1.36325\n",
       "[33] -0.15325 -0.40325  0.04675 -0.13325  0.63675 -0.52325  0.30675  1.49675"
      ]
     },
     "metadata": {},
     "output_type": "display_data"
    }
   ],
   "source": [
    "residuals_H0 <- c(data$Control - overall_mean, data$Treatment - overall_mean)\n",
    "residuals_H0"
   ]
  },
  {
   "cell_type": "code",
   "execution_count": 30,
   "metadata": {
    "vscode": {
     "languageId": "r"
    }
   },
   "outputs": [
    {
     "data": {
      "image/png": "[encoded data removed]",
      "text/plain": [
       "plot without title"
      ]
     },
     "metadata": {
      "image/png": {
       "height": 420,
       "width": 420
      }
     },
     "output_type": "display_data"
    }
   ],
   "source": [
    "ggplot(data.frame(residuals_H0), aes(x = residuals_H0)) +\n",
    "  geom_histogram(binwidth = 1, fill = \"blue\", color = \"black\", alpha = 0.7) +\n",
    "  geom_density(alpha = 0.5, fill = \"red\") +\n",
    "  ggtitle(\"Histogram of Residuals (H0)\") +\n",
    "  xlab(\"Residuals\") +\n",
    "  ylab(\"Frequency\")"
   ]
  },
  {
   "cell_type": "code",
   "execution_count": 32,
   "metadata": {
    "vscode": {
     "languageId": "r"
    }
   },
   "outputs": [
    {
     "name": "stdout",
     "output_type": "stream",
     "text": [
      "\n",
      "\tShapiro-Wilk normality test\n",
      "\n",
      "data:  residuals_H0\n",
      "W = 0.98922, p-value = 0.9637\n",
      "\n"
     ]
    }
   ],
   "source": [
    "# Perform Shapiro-Wilk normality test\n",
    "shapiro_test <- shapiro.test(residuals_H0)\n",
    "print(shapiro_test)"
   ]
  }
 ],
 "metadata": {
  "kernelspec": {
   "display_name": "R",
   "language": "R",
   "name": "ir"
  },
  "language_info": {
   "codemirror_mode": "r",
   "file_extension": ".r",
   "mimetype": "text/x-r-source",
   "name": "R",
   "pygments_lexer": "r",
   "version": "4.2.3"
  }
 },
 "nbformat": 4,
 "nbformat_minor": 2
}
